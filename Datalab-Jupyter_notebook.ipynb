{
 "cells": [
  {
   "cell_type": "markdown",
   "metadata": {},
   "source": [
    "### Glue를 활용한 데이터 활용하기\n",
    "\n",
    "Jupyter notebook을 통해 AWS Glue job을 생성하기 전에 먼저 데이터를 확인해보겠습니다.\n",
    "저희는 앞선 실습에서 RDS MySQL의 데이터를 크롤링하여 metadata를 만들었고, Amazon S3에 데이터가 들어왔다는 전제하에 업로드 시켜두었습니다. \n",
    "\n",
    "### 1. Crawl our sample dataset\n",
    "\n",
    "예제에서는 아래의 경로에 데이터들이 적재되어 있습니다.\n",
    "\n",
    "    s3://awskrug-data-닉네임/\n",
    "    jdbc:mysql://RDS_endpoint.ap-northeast-2.rds.amazonaws.com:3306/datalab"
   ]
  },
  {
   "cell_type": "markdown",
   "metadata": {},
   "source": [
    "### 2. GlueContext 설정\n",
    "\n",
    "필요한 AWS Glue의 라이브러리를 가져와서 단일 GlueContext를 설정합니다. "
   ]
  },
  {
   "cell_type": "code",
   "execution_count": 1,
   "metadata": {},
   "outputs": [
    {
     "name": "stdout",
     "output_type": "stream",
     "text": [
      "Starting Spark application\n"
     ]
    },
    {
     "data": {
      "text/html": [
       "<table>\n",
       "<tr><th>ID</th><th>YARN Application ID</th><th>Kind</th><th>State</th><th>Spark UI</th><th>Driver log</th><th>Current session?</th></tr><tr><td>1</td><td>application_1569309920903_0002</td><td>pyspark</td><td>idle</td><td><a target=\"_blank\" href=\"http://ip-172-31-10-108.ap-northeast-2.compute.internal:20888/proxy/application_1569309920903_0002/\">Link</a></td><td><a target=\"_blank\" href=\"http://ip-172-31-3-161.ap-northeast-2.compute.internal:8042/node/containerlogs/container_1569309920903_0002_01_000001/livy\">Link</a></td><td>✔</td></tr></table>"
      ],
      "text/plain": [
       "<IPython.core.display.HTML object>"
      ]
     },
     "metadata": {},
     "output_type": "display_data"
    },
    {
     "data": {
      "application/vnd.jupyter.widget-view+json": {
       "model_id": "0ff3c8772567422b8a74f04d1540fe7c",
       "version_major": 2,
       "version_minor": 0
      },
      "text/plain": [
       "FloatProgress(value=0.0, bar_style='info', description='Progress:', layout=Layout(height='25px', width='50%'),…"
      ]
     },
     "metadata": {},
     "output_type": "display_data"
    },
    {
     "name": "stdout",
     "output_type": "stream",
     "text": [
      "SparkSession available as 'spark'.\n"
     ]
    },
    {
     "data": {
      "application/vnd.jupyter.widget-view+json": {
       "model_id": "726c797b7f9c43c89c19eaae427ca79e",
       "version_major": 2,
       "version_minor": 0
      },
      "text/plain": [
       "FloatProgress(value=0.0, bar_style='info', description='Progress:', layout=Layout(height='25px', width='50%'),…"
      ]
     },
     "metadata": {},
     "output_type": "display_data"
    }
   ],
   "source": [
    "import sys\n",
    "from awsglue.transforms import *\n",
    "from awsglue.utils import getResolvedOptions\n",
    "from pyspark.context import SparkContext\n",
    "from awsglue.context import GlueContext\n",
    "from awsglue.job import Job\n",
    "\n",
    "glueContext = GlueContext(SparkContext.getOrCreate())"
   ]
  },
  {
   "cell_type": "markdown",
   "metadata": {},
   "source": [
    "### 3. AWS Glue Crawler가 식별한 스키마를 확인\n",
    "\n",
    "앞서 크롤러가 만든 database 및 table을 정의하여 스키마를 확인하겠습니다.\n",
    "실습에서는 아래 2개의 테이블을 조회해 보겠습니다. \n",
    " - order_info\n",
    " - user_event_logs\n",
    " - user_info"
   ]
  },
  {
   "cell_type": "code",
   "execution_count": 26,
   "metadata": {},
   "outputs": [
    {
     "data": {
      "application/vnd.jupyter.widget-view+json": {
       "model_id": "7aa0ae5ae0ed4110a78ab79cdb823d15",
       "version_major": 2,
       "version_minor": 0
      },
      "text/plain": [
       "FloatProgress(value=0.0, bar_style='info', description='Progress:', layout=Layout(height='25px', width='50%'),…"
      ]
     },
     "metadata": {},
     "output_type": "display_data"
    },
    {
     "name": "stdout",
     "output_type": "stream",
     "text": [
      "root\n",
      "|-- timestamp: string\n",
      "|-- user_id: string\n",
      "|-- goods_id: long\n",
      "|-- shop_id: long\n",
      "|-- price: long"
     ]
    }
   ],
   "source": [
    "order_info = glueContext.create_dynamic_frame.from_catalog(database=\"datalab-s3-order-info\", table_name=\"order_info_csv\")\n",
    "order_info.printSchema()"
   ]
  },
  {
   "cell_type": "code",
   "execution_count": 35,
   "metadata": {},
   "outputs": [
    {
     "data": {
      "application/vnd.jupyter.widget-view+json": {
       "model_id": "d1d2d456f5ae434086b1a3dc497827ff",
       "version_major": 2,
       "version_minor": 0
      },
      "text/plain": [
       "FloatProgress(value=0.0, bar_style='info', description='Progress:', layout=Layout(height='25px', width='50%'),…"
      ]
     },
     "metadata": {},
     "output_type": "display_data"
    },
    {
     "name": "stdout",
     "output_type": "stream",
     "text": [
      "root\n",
      "|-- timestamp: string\n",
      "|-- user_id: string\n",
      "|-- event_origin: string\n",
      "|-- event_name: string\n",
      "|-- partition_0: string\n",
      "|-- partition_1: string\n",
      "|-- event_goods_id: long\n",
      "|-- event_shop_id: long"
     ]
    }
   ],
   "source": [
    "user_event_log = glueContext.create_dynamic_frame.from_catalog(database=\"database-s3-test\", table_name=\"user_event_logs_2019\")\n",
    "user_event_log.printSchema()"
   ]
  },
  {
   "cell_type": "code",
   "execution_count": 34,
   "metadata": {},
   "outputs": [
    {
     "data": {
      "application/vnd.jupyter.widget-view+json": {
       "model_id": "c8df8002befd4e0496de8e9ecce20022",
       "version_major": 2,
       "version_minor": 0
      },
      "text/plain": [
       "FloatProgress(value=0.0, bar_style='info', description='Progress:', layout=Layout(height='25px', width='50%'),…"
      ]
     },
     "metadata": {},
     "output_type": "display_data"
    },
    {
     "name": "stdout",
     "output_type": "stream",
     "text": [
      "root\n",
      "|-- user_id: string\n",
      "|-- os: string\n",
      "|-- age: int"
     ]
    }
   ],
   "source": [
    "user_info = glueContext.create_dynamic_frame.from_catalog(database=\"datalab-rds\", table_name=\"datalab_user_info\")\n",
    "user_info.printSchema()"
   ]
  },
  {
   "cell_type": "markdown",
   "metadata": {},
   "source": [
    "\n",
    "위와 같은 방식으로 각각의 데이터베이스에 존재하는 테이블의 스키마 정보를 확인할 수 있습니다.\n",
    "이를 보고 각각 JOIN하거나 불필요 컬럼을 제거하거나,이름을 변경한 뒤 조인하는 등의 행위를 할 수 있습니다. "
   ]
  },
  {
   "cell_type": "markdown",
   "metadata": {},
   "source": [
    "\n",
    "### 4. 필터링\n",
    "\n",
    "원하는 필드만 유지하고 특정 필드는 제거하여 필터링 작업을 하겠습니다. \n",
    "이때 toDF() 변환은 DynamicFrame을 Spark DataFrame으로 변환하므로 SparkSQL에 이미 존재하는 변환을 적용할 수 있습니다.\n",
    "\n"
   ]
  },
  {
   "cell_type": "code",
   "execution_count": 17,
   "metadata": {},
   "outputs": [
    {
     "data": {
      "application/vnd.jupyter.widget-view+json": {
       "model_id": "fdf379c44b9b43c88dc16ff32b0c57ee",
       "version_major": 2,
       "version_minor": 0
      },
      "text/plain": [
       "FloatProgress(value=0.0, bar_style='info', description='Progress:', layout=Layout(height='25px', width='50%'),…"
      ]
     },
     "metadata": {},
     "output_type": "display_data"
    },
    {
     "name": "stdout",
     "output_type": "stream",
     "text": [
      "+--------------------+-------------+-----------+-----------+--------------------+--------------+-------------+\n",
      "|        event_origin|   event_name|partition_0|partition_1|                  id|event_goods_id|event_shop_id|\n",
      "+--------------------+-------------+-----------+-----------+--------------------+--------------+-------------+\n",
      "|       shops_ranking|app_page_view|         09|         20|K1d8_t3-QIskaSkrx...|          null|         null|\n",
      "|      shops_bookmark|app_page_view|         09|         20|lwFZ77v_ygk0uU40t...|          null|         null|\n",
      "|goods_search_resu...|app_page_view|         09|         20|mR-bO6hC9g-m8ERXM...|          null|         null|\n",
      "|      shops_bookmark|app_page_view|         09|         20|K1d8_t3-QIskaSkrx...|          null|         null|\n",
      "|      shops_bookmark|app_page_view|         09|         20|Yjny5AchUWLiuv4kd...|          null|         null|\n",
      "|            my_goods|app_page_view|         09|         20|LZZ0ktGq6hW685TFA...|          null|         null|\n",
      "|goods_search_resu...|app_page_view|         09|         20|TUoAGIbbNds5cYLZL...|          null|         null|\n",
      "|goods_search_resu...|app_page_view|         09|         20|B9F_BHH9F3b6MW329...|          null|         null|\n",
      "|       shops_ranking|app_page_view|         09|         20|e_xrTZ9fHVodxxadL...|          null|         null|\n",
      "|       shops_ranking|app_page_view|         09|         20|aA9S7LxnFm6ym6IUE...|          null|         null|\n",
      "|            my_goods|app_page_view|         09|         20|1V2qyn-5WTsZm47-j...|          null|         null|\n",
      "|       shops_ranking|app_page_view|         09|         20|gAZcQyqsBDzE0GTuj...|          null|         null|\n",
      "|            my_goods|enter_browser|         09|         20|LZZ0ktGq6hW685TFA...|          4278|           60|\n",
      "|       shops_ranking|app_page_view|         09|         20|hkm8GKNURA-0WHrYt...|          null|         null|\n",
      "|goods_search_resu...|enter_browser|         09|         20|B9F_BHH9F3b6MW329...|          4041|          131|\n",
      "|goods_search_resu...|app_page_view|         09|         20|Y3X7Crifq4x6Py7OF...|          null|         null|\n",
      "|goods_search_resu...|app_page_view|         09|         20|CFGbbyBJ2QvhxkZaF...|          null|         null|\n",
      "|      shops_bookmark|app_page_view|         09|         20|kAfEgmGLiFqtkx9xv...|          null|         null|\n",
      "|       shops_ranking|app_page_view|         09|         20|jSKnyXhWkneewc11k...|          null|         null|\n",
      "|goods_search_resu...|app_page_view|         09|         20|T6me3B7p0mQxU2jQS...|          null|         null|\n",
      "+--------------------+-------------+-----------+-----------+--------------------+--------------+-------------+\n",
      "only showing top 20 rows"
     ]
    }
   ],
   "source": [
    "user_event_log = user_event_log.drop_fields(['timestamp']).rename_field('user_id', 'id')\n",
    "user_event_log.toDF().show()"
   ]
  },
  {
   "cell_type": "markdown",
   "metadata": {},
   "source": [
    "이러한 방식으로 특정 컬럼을 제외할 수도 있고, 리네임할 수 도 있습니다. \n",
    "\n",
    "이제는 datalab_user_info와 Order_info를 user_id로 조인해보겠습니다."
   ]
  },
  {
   "cell_type": "code",
   "execution_count": 42,
   "metadata": {},
   "outputs": [
    {
     "data": {
      "application/vnd.jupyter.widget-view+json": {
       "model_id": "23e312c6deee4516b82160407a9758fb",
       "version_major": 2,
       "version_minor": 0
      },
      "text/plain": [
       "FloatProgress(value=0.0, bar_style='info', description='Progress:', layout=Layout(height='25px', width='50%'),…"
      ]
     },
     "metadata": {},
     "output_type": "display_data"
    },
    {
     "name": "stdout",
     "output_type": "stream",
     "text": [
      "Count:  867\n",
      "root\n",
      "|-- price: long\n",
      "|-- shop_id: long\n",
      "|-- age: int\n",
      "|-- timestamp: string\n",
      "|-- goods_id: long\n",
      "|-- os: string\n",
      "|-- .user_id: string\n",
      "|-- user_id: string"
     ]
    }
   ],
   "source": [
    "result = Join.apply(order_info, user_info,'user_id','user_id')\n",
    "result = result.drop_fields(['.user_id'])\n",
    "\n",
    "print (\"Count: \",result.count())\n",
    "result.printSchema()"
   ]
  },
  {
   "cell_type": "code",
   "execution_count": 39,
   "metadata": {},
   "outputs": [
    {
     "data": {
      "application/vnd.jupyter.widget-view+json": {
       "model_id": "16df78be71f54166b11d856fdc752aaf",
       "version_major": 2,
       "version_minor": 0
      },
      "text/plain": [
       "FloatProgress(value=0.0, bar_style='info', description='Progress:', layout=Layout(height='25px', width='50%'),…"
      ]
     },
     "metadata": {},
     "output_type": "display_data"
    },
    {
     "name": "stdout",
     "output_type": "stream",
     "text": [
      "+-----+-------+---+--------------------+--------+---+--------------------+--------------------+\n",
      "|price|shop_id|age|           timestamp|goods_id| os|            .user_id|             user_id|\n",
      "+-----+-------+---+--------------------+--------+---+--------------------+--------------------+\n",
      "|23500|    102| 20|2018-06-11 02:04:...|    5436|iOS|W-CvDQrB4uXbiGGZ8...|W-CvDQrB4uXbiGGZ8...|\n",
      "|15000|     41| 25|2018-06-11 14:17:...|    1884|And|fYHpMIbtwo3JQ8nPn...|fYHpMIbtwo3JQ8nPn...|\n",
      "|19800|     32| 32|2018-06-11 12:21:...|    5884|iOS|RWEDTLLkIUVuQQI7Z...|RWEDTLLkIUVuQQI7Z...|\n",
      "|11500|     12| 15|2018-06-11 21:36:...|    1922|And|xp2UXd5LsDAq7ib1H...|xp2UXd5LsDAq7ib1H...|\n",
      "|11000|     22| 21|2018-06-11 18:16:...|    3355|iOS|ZqC_h-amqTdhYvv0V...|ZqC_h-amqTdhYvv0V...|\n",
      "|44900|    139| 23|2018-06-11 02:30:...|    1172|iOS|MRNFeS0sVveDbr_PG...|MRNFeS0sVveDbr_PG...|\n",
      "| 9900|    126| 23|2018-06-11 02:49:...|     151|iOS|MRNFeS0sVveDbr_PG...|MRNFeS0sVveDbr_PG...|\n",
      "|52000|    145| 23|2018-06-11 03:54:...|    6369|iOS|MRNFeS0sVveDbr_PG...|MRNFeS0sVveDbr_PG...|\n",
      "|25000|     77| 23|2018-06-11 03:57:...|    3049|iOS|MRNFeS0sVveDbr_PG...|MRNFeS0sVveDbr_PG...|\n",
      "|20810|     28| 20|2018-06-11 00:33:...|    5519|iOS|lhaf4YM-6Ma9AN6XG...|lhaf4YM-6Ma9AN6XG...|\n",
      "|32800|     63| 19|2018-06-11 19:31:...|     849|iOS|LqImoN4NNmifYzWm4...|LqImoN4NNmifYzWm4...|\n",
      "|12900|    126| 27|2018-06-11 22:51:...|     976|And|L8acu0lQ4apG87BY9...|L8acu0lQ4apG87BY9...|\n",
      "|30400|    100| 26|2018-06-11 21:54:...|     981|iOS|XMfOr6hw3J-Y6e-Zp...|XMfOr6hw3J-Y6e-Zp...|\n",
      "|31000|     38| 37|2018-06-11 12:56:...|    5513|And|MnvhmV0tA89bN9TLX...|MnvhmV0tA89bN9TLX...|\n",
      "| 4900|     12| 19|2018-06-11 21:26:...|    4603|iOS|ggCICmp2XumOfZhqE...|ggCICmp2XumOfZhqE...|\n",
      "|19800|     32| 32|2018-06-11 23:07:...|    5134|And|pyLEa_iwUjpx9Rs62...|pyLEa_iwUjpx9Rs62...|\n",
      "|32000|     11| 22|2018-06-11 11:45:...|    4243|And|9DHLsuoE7BpK1Tjbr...|9DHLsuoE7BpK1Tjbr...|\n",
      "| 4500|     22| 16|2018-06-11 23:45:...|     747|And|G_FTWV3XOR8MmW01c...|G_FTWV3XOR8MmW01c...|\n",
      "|23800|    126| 28|2018-06-11 21:25:...|     279|iOS|i8lAr0csgIHMSy2sp...|i8lAr0csgIHMSy2sp...|\n",
      "|14800|     22| 17|2018-06-11 21:34:...|    6353|And|JkBOzfgL_APyrEZaX...|JkBOzfgL_APyrEZaX...|\n",
      "+-----+-------+---+--------------------+--------+---+--------------------+--------------------+\n",
      "only showing top 20 rows"
     ]
    }
   ],
   "source": [
    "result.toDF().show()"
   ]
  },
  {
   "cell_type": "markdown",
   "metadata": {},
   "source": [
    "\n",
    "### 4. 데이터 쓰기\n",
    "\n",
    "만들어진 데이터를 특정 저장장치(Amazon S3)에 쓰도록하겠습니다.\n",
    "실습에서는 Amazon S3에만 데이터를 쓰지만, RDBMS, Redhift 등에도 쓸 수 있습니다.\n",
    "\n",
    "\n",
    "Amazon S3경로에 조인된 데이터를 parquet으로 변환하여 upload하겠습니다."
   ]
  },
  {
   "cell_type": "code",
   "execution_count": null,
   "metadata": {},
   "outputs": [
    {
     "data": {
      "application/vnd.jupyter.widget-view+json": {
       "model_id": "21720a4065714415a7c070bda69783f8",
       "version_major": 2,
       "version_minor": 0
      },
      "text/plain": [
       "FloatProgress(value=0.0, bar_style='info', description='Progress:', layout=Layout(height='25px', width='50%'),…"
      ]
     },
     "metadata": {},
     "output_type": "display_data"
    }
   ],
   "source": [
    "import boto3, os\n",
    "\n",
    "s3 = boto3.resource('s3')\n",
    "s3.create_bucket(Bucket='demo-bucket-cdaaaal2', CreateBucketConfiguration={'LocationConstranint':'ap-northeast-2'})"
   ]
  },
  {
   "cell_type": "code",
   "execution_count": 49,
   "metadata": {},
   "outputs": [
    {
     "data": {
      "application/vnd.jupyter.widget-view+json": {
       "model_id": "b6c8e6255c404816becd94de1cf499b8",
       "version_major": 2,
       "version_minor": 0
      },
      "text/plain": [
       "FloatProgress(value=0.0, bar_style='info', description='Progress:', layout=Layout(height='25px', width='50%'),…"
      ]
     },
     "metadata": {},
     "output_type": "display_data"
    },
    {
     "name": "stdout",
     "output_type": "stream",
     "text": [
      "Writing to awskrug-data-luke/output ...\n",
      "<awsglue.dynamicframe.DynamicFrame object at 0x7f8ee5acc6d8>"
     ]
    }
   ],
   "source": [
    "output_AmazonS3 = \"s3://awskrug-data-luke/output\"\n",
    "\n",
    "\n",
    "print(\"Writing to awskrug-data-luke/output ...\")\n",
    "glueContext.write_dynamic_frame.from_options(frame = result, connection_type = \"s3\", connection_options = {\"path\": output_AmazonS3}, format = \"parquet\")"
   ]
  },
  {
   "cell_type": "markdown",
   "metadata": {},
   "source": [
    "### 결론\n",
    "\n",
    "ETL 작업을 하게 되면 한번에 코딩하기도 어렵고, 시간도 많이 걸릴 것 입니다.\n",
    "이럴 때 AWS Glue endpoint를 사용하여 jupyter notebook 환경을 손Now let's join these relational tables to create one full history table of legislator\n",
    "memberships and their correponding organizations, using AWS Glue.\n",
    "\n",
    " - First, we join `persons` and `memberships` on `id` and `person_id`.\n",
    " - Next, join the result with orgs on `org_id` and `organization_id`.\n",
    " - Then, drop the redundant fields, `person_id` and `org_id`.\n",
    "\n",
    "We can do all these operations in one (extended) line of code:"
   ]
  }
 ],
 "metadata": {
  "kernelspec": {
   "display_name": "Sparkmagic (PySpark)",
   "language": "",
   "name": "pysparkkernel"
  },
  "language_info": {
   "codemirror_mode": {
    "name": "python",
    "version": 2
   },
   "mimetype": "text/x-python",
   "name": "pyspark",
   "pygments_lexer": "python2"
  }
 },
 "nbformat": 4,
 "nbformat_minor": 4
}
