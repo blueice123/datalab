{
 "cells": [
  {
   "cell_type": "markdown",
   "metadata": {},
   "source": [
    "### Glue를 활용한 데이터 활용하기\n",
    "\n",
    "Jupyter notebook을 통해 AWS Glue job을 생성하기 전에 먼저 데이터를 확인해보겠습니다.\n",
    "저희는 앞선 실습에서 RDS MySQL의 데이터를 크롤링하여 metadata를 만들었고, Amazon S3에 데이터가 들어왔다는 전제하에 업로드 시켜두었습니다. \n",
    "\n",
    "### 1. Crawl our sample dataset\n",
    "\n",
    "예제에서는 아래의 경로에 데이터들이 적재되어 있습니다.\n",
    "\n",
    "    s3://awskrug-data-닉네임/\n",
    "    jdbc:mysql://RDS_endpoint:3306/datalab"
   ]
  },
  {
   "cell_type": "markdown",
   "metadata": {},
   "source": [
    "### 2. GlueContext 설정\n",
    "\n",
    "필요한 AWS Glue의 라이브러리를 가져와서 단일 GlueContext를 설정합니다. "
   ]
  },
  {
   "cell_type": "code",
   "execution_count": 1,
   "metadata": {},
   "outputs": [
    {
     "name": "stdout",
     "output_type": "stream",
     "text": [
      "Starting Spark application\n"
     ]
    },
    {
     "data": {
      "text/html": [
       "<table>\n",
       "<tr><th>ID</th><th>YARN Application ID</th><th>Kind</th><th>State</th><th>Spark UI</th><th>Driver log</th><th>Current session?</th></tr><tr><td>10</td><td>application_1569309920903_0011</td><td>pyspark</td><td>idle</td><td><a target=\"_blank\" href=\"http://ip-172-31-10-108.ap-northeast-2.compute.internal:20888/proxy/application_1569309920903_0011/\">Link</a></td><td><a target=\"_blank\" href=\"http://ip-172-31-13-125.ap-northeast-2.compute.internal:8042/node/containerlogs/container_1569309920903_0011_01_000001/livy\">Link</a></td><td>✔</td></tr></table>"
      ],
      "text/plain": [
       "<IPython.core.display.HTML object>"
      ]
     },
     "metadata": {},
     "output_type": "display_data"
    },
    {
     "data": {
      "application/vnd.jupyter.widget-view+json": {
       "model_id": "594b19f11b4b43ca98f4dbb05d8b2d15",
       "version_major": 2,
       "version_minor": 0
      },
      "text/plain": [
       "FloatProgress(value=0.0, bar_style='info', description='Progress:', layout=Layout(height='25px', width='50%'),…"
      ]
     },
     "metadata": {},
     "output_type": "display_data"
    },
    {
     "name": "stdout",
     "output_type": "stream",
     "text": [
      "SparkSession available as 'spark'.\n"
     ]
    },
    {
     "data": {
      "application/vnd.jupyter.widget-view+json": {
       "model_id": "55818d93c9354fbabf2c98b8e932d86b",
       "version_major": 2,
       "version_minor": 0
      },
      "text/plain": [
       "FloatProgress(value=0.0, bar_style='info', description='Progress:', layout=Layout(height='25px', width='50%'),…"
      ]
     },
     "metadata": {},
     "output_type": "display_data"
    }
   ],
   "source": [
    "import sys\n",
    "from awsglue.transforms import *\n",
    "from awsglue.utils import getResolvedOptions\n",
    "from pyspark.context import SparkContext\n",
    "from awsglue.context import GlueContext\n",
    "from awsglue.job import Job\n",
    "\n",
    "glueContext = GlueContext(SparkContext.getOrCreate())"
   ]
  },
  {
   "cell_type": "markdown",
   "metadata": {},
   "source": [
    "### 3. AWS Glue Crawler가 식별한 스키마를 확인\n",
    "\n",
    "앞서 크롤러가 만든 database 및 table을 정의하여 스키마를 확인하겠습니다.\n",
    "실습에서는 아래 3개의 테이블을 조회해 보겠습니다. \n",
    " - order_info\n",
    " - user_event_logs\n",
    " - user_info"
   ]
  },
  {
   "cell_type": "code",
   "execution_count": 2,
   "metadata": {},
   "outputs": [
    {
     "data": {
      "application/vnd.jupyter.widget-view+json": {
       "model_id": "97b78a36ae804746988d86db2b27d8ea",
       "version_major": 2,
       "version_minor": 0
      },
      "text/plain": [
       "FloatProgress(value=0.0, bar_style='info', description='Progress:', layout=Layout(height='25px', width='50%'),…"
      ]
     },
     "metadata": {},
     "output_type": "display_data"
    },
    {
     "name": "stdout",
     "output_type": "stream",
     "text": [
      "root\n",
      "|-- timestamp: timestamp\n",
      "|-- user_id: string\n",
      "|-- goods_id: int\n",
      "|-- shop_id: int\n",
      "|-- price: int"
     ]
    }
   ],
   "source": [
    "order_info = glueContext.create_dynamic_frame.from_catalog(database=\"datalab-rds\", table_name=\"datalab_order_info\")\n",
    "order_info.printSchema()"
   ]
  },
  {
   "cell_type": "code",
   "execution_count": 3,
   "metadata": {},
   "outputs": [
    {
     "data": {
      "application/vnd.jupyter.widget-view+json": {
       "model_id": "4686df6cc4b44a6ab0202df12879f6f3",
       "version_major": 2,
       "version_minor": 0
      },
      "text/plain": [
       "FloatProgress(value=0.0, bar_style='info', description='Progress:', layout=Layout(height='25px', width='50%'),…"
      ]
     },
     "metadata": {},
     "output_type": "display_data"
    },
    {
     "name": "stdout",
     "output_type": "stream",
     "text": [
      "root\n",
      "|-- col0: string\n",
      "|-- col1: string\n",
      "|-- col2: string\n",
      "|-- col3: string\n",
      "|-- col4: long\n",
      "|-- col5: long\n",
      "|-- partition_0: string\n",
      "|-- partition_1: string"
     ]
    }
   ],
   "source": [
    "user_event_log = glueContext.create_dynamic_frame.from_catalog(database=\"datalab-s3\", table_name=\"user_event_logs_2019\")\n",
    "user_event_log.printSchema()"
   ]
  },
  {
   "cell_type": "code",
   "execution_count": 4,
   "metadata": {},
   "outputs": [
    {
     "data": {
      "application/vnd.jupyter.widget-view+json": {
       "model_id": "71d49ae8c4744d5fb195c4fb9cca2f03",
       "version_major": 2,
       "version_minor": 0
      },
      "text/plain": [
       "FloatProgress(value=0.0, bar_style='info', description='Progress:', layout=Layout(height='25px', width='50%'),…"
      ]
     },
     "metadata": {},
     "output_type": "display_data"
    },
    {
     "name": "stdout",
     "output_type": "stream",
     "text": [
      "root\n",
      "|-- user_id: string\n",
      "|-- os: string\n",
      "|-- age: int"
     ]
    }
   ],
   "source": [
    "user_info = glueContext.create_dynamic_frame.from_catalog(database=\"datalab-rds\", table_name=\"datalab_user_info\")\n",
    "user_info.printSchema()"
   ]
  },
  {
   "cell_type": "markdown",
   "metadata": {},
   "source": [
    "\n",
    "위와 같은 방식으로 각각의 데이터베이스에 존재하는 테이블의 스키마 정보를 확인할 수 있습니다.\n",
    "이를 보고 JOIN하거나 불필요한 컬럼을 제거하거나,이름을 변경한 뒤 조인하는 등의 행위를 할 수 있습니다. "
   ]
  },
  {
   "cell_type": "markdown",
   "metadata": {},
   "source": [
    "\n",
    "### 4. 필터링\n",
    "\n",
    "원하는 필드만 유지하고 특정 필드는 제거하여 필터링 작업을 하겠습니다. \n",
    "예를들면, timestamp 필드를 제거한 뒤, user_id는 id로 변경해보겠습니다.\n",
    "\n",
    "이때 toDF() 변환은 DynamicFrame을 Spark DataFrame으로 변환하므로 SparkSQL에 이미 존재하는 변환을 적용할 수 있습니다."
   ]
  },
  {
   "cell_type": "code",
   "execution_count": 5,
   "metadata": {},
   "outputs": [
    {
     "data": {
      "application/vnd.jupyter.widget-view+json": {
       "model_id": "e4e2db38edd04e89a5df70352dc719ca",
       "version_major": 2,
       "version_minor": 0
      },
      "text/plain": [
       "FloatProgress(value=0.0, bar_style='info', description='Progress:', layout=Layout(height='25px', width='50%'),…"
      ]
     },
     "metadata": {},
     "output_type": "display_data"
    },
    {
     "name": "stdout",
     "output_type": "stream",
     "text": [
      "+--------------------+--------------------+--------------------+-------------+-----------+-----------+----+----+\n",
      "|                col0|                col1|                col2|         col3|partition_0|partition_1|col4|col5|\n",
      "+--------------------+--------------------+--------------------+-------------+-----------+-----------+----+----+\n",
      "|2019-09-21 00:00:...|K1d8_t3-QIskaSkrx...|       shops_ranking|app_page_view|         09|         21|null|null|\n",
      "|2019-09-21 00:00:...|lwFZ77v_ygk0uU40t...|      shops_bookmark|app_page_view|         09|         21|null|null|\n",
      "|2019-09-21 00:00:...|mR-bO6hC9g-m8ERXM...|goods_search_resu...|app_page_view|         09|         21|null|null|\n",
      "|2019-09-21 00:00:...|K1d8_t3-QIskaSkrx...|      shops_bookmark|app_page_view|         09|         21|null|null|\n",
      "|2019-09-21 00:00:...|Yjny5AchUWLiuv4kd...|      shops_bookmark|app_page_view|         09|         21|null|null|\n",
      "|2019-09-21 00:00:...|LZZ0ktGq6hW685TFA...|            my_goods|app_page_view|         09|         21|null|null|\n",
      "|2019-09-21 00:00:...|TUoAGIbbNds5cYLZL...|goods_search_resu...|app_page_view|         09|         21|null|null|\n",
      "|2019-09-21 00:00:...|B9F_BHH9F3b6MW329...|goods_search_resu...|app_page_view|         09|         21|null|null|\n",
      "|2019-09-21 00:00:...|e_xrTZ9fHVodxxadL...|       shops_ranking|app_page_view|         09|         21|null|null|\n",
      "|2019-09-21 00:00:...|aA9S7LxnFm6ym6IUE...|       shops_ranking|app_page_view|         09|         21|null|null|\n",
      "|2019-09-21 00:00:...|1V2qyn-5WTsZm47-j...|            my_goods|app_page_view|         09|         21|null|null|\n",
      "|2019-09-21 00:00:...|gAZcQyqsBDzE0GTuj...|       shops_ranking|app_page_view|         09|         21|null|null|\n",
      "|2019-09-21 00:00:...|LZZ0ktGq6hW685TFA...|            my_goods|enter_browser|         09|         21|4278|  60|\n",
      "|2019-09-21 00:00:...|hkm8GKNURA-0WHrYt...|       shops_ranking|app_page_view|         09|         21|null|null|\n",
      "|2019-09-21 00:00:...|B9F_BHH9F3b6MW329...|goods_search_resu...|enter_browser|         09|         21|4041| 131|\n",
      "|2019-09-21 00:00:...|Y3X7Crifq4x6Py7OF...|goods_search_resu...|app_page_view|         09|         21|null|null|\n",
      "|2019-09-21 00:00:...|CFGbbyBJ2QvhxkZaF...|goods_search_resu...|app_page_view|         09|         21|null|null|\n",
      "|2019-09-21 00:00:...|kAfEgmGLiFqtkx9xv...|      shops_bookmark|app_page_view|         09|         21|null|null|\n",
      "|2019-09-21 00:00:...|jSKnyXhWkneewc11k...|       shops_ranking|app_page_view|         09|         21|null|null|\n",
      "|2019-09-21 00:00:...|T6me3B7p0mQxU2jQS...|goods_search_resu...|app_page_view|         09|         21|null|null|\n",
      "+--------------------+--------------------+--------------------+-------------+-----------+-----------+----+----+\n",
      "only showing top 20 rows"
     ]
    }
   ],
   "source": [
    "user_event_log = user_event_log.drop_fields(['timestamp']).rename_field('user_id', 'id')\n",
    "user_event_log.toDF().show()"
   ]
  },
  {
   "cell_type": "markdown",
   "metadata": {},
   "source": [
    "이러한 방식으로 특정 컬럼을 제외할 수도 있고, 리네임할 수 도 있습니다. \n",
    "\n",
    "이제는 datalab_user_info와 Order_info를 user_id로 조인하고, 스키마를 출력하겠습니다."
   ]
  },
  {
   "cell_type": "code",
   "execution_count": 6,
   "metadata": {},
   "outputs": [
    {
     "data": {
      "application/vnd.jupyter.widget-view+json": {
       "model_id": "820d116b2606494191dc2763e67cbca6",
       "version_major": 2,
       "version_minor": 0
      },
      "text/plain": [
       "FloatProgress(value=0.0, bar_style='info', description='Progress:', layout=Layout(height='25px', width='50%'),…"
      ]
     },
     "metadata": {},
     "output_type": "display_data"
    },
    {
     "name": "stdout",
     "output_type": "stream",
     "text": [
      "Count:  868\n",
      "root\n",
      "|-- price: int\n",
      "|-- shop_id: int\n",
      "|-- age: int\n",
      "|-- timestamp: timestamp\n",
      "|-- goods_id: int\n",
      "|-- os: string\n",
      "|-- .user_id: string\n",
      "|-- user_id: string"
     ]
    }
   ],
   "source": [
    "result = Join.apply(order_info, user_info,'user_id','user_id')\n",
    "result = result.drop_fields(['.user_id'])\n",
    "\n",
    "print (\"Count: \",result.count())\n",
    "result.printSchema()"
   ]
  },
  {
   "cell_type": "markdown",
   "metadata": {},
   "source": [
    "\n",
    "안에 어떠한 값들이 들어있는지 확인해보겠습니다."
   ]
  },
  {
   "cell_type": "code",
   "execution_count": 7,
   "metadata": {},
   "outputs": [
    {
     "data": {
      "application/vnd.jupyter.widget-view+json": {
       "model_id": "dfef61177535404c802fa59c979bcabe",
       "version_major": 2,
       "version_minor": 0
      },
      "text/plain": [
       "FloatProgress(value=0.0, bar_style='info', description='Progress:', layout=Layout(height='25px', width='50%'),…"
      ]
     },
     "metadata": {},
     "output_type": "display_data"
    },
    {
     "name": "stdout",
     "output_type": "stream",
     "text": [
      "+-----+-------+---+--------------------+--------+---+--------------------+--------------------+\n",
      "|price|shop_id|age|           timestamp|goods_id| os|            .user_id|             user_id|\n",
      "+-----+-------+---+--------------------+--------+---+--------------------+--------------------+\n",
      "|23500|    102| 20|2018-06-11 02:04:...|    5436|iOS|W-CvDQrB4uXbiGGZ8...|W-CvDQrB4uXbiGGZ8...|\n",
      "|15000|     41| 25|2018-06-11 14:17:...|    1884|And|fYHpMIbtwo3JQ8nPn...|fYHpMIbtwo3JQ8nPn...|\n",
      "|19800|     32| 32|2018-06-11 12:21:...|    5884|iOS|RWEDTLLkIUVuQQI7Z...|RWEDTLLkIUVuQQI7Z...|\n",
      "|11500|     12| 15|2018-06-11 21:36:...|    1922|And|xp2UXd5LsDAq7ib1H...|xp2UXd5LsDAq7ib1H...|\n",
      "|11000|     22| 21|2018-06-11 18:16:...|    3355|iOS|ZqC_h-amqTdhYvv0V...|ZqC_h-amqTdhYvv0V...|\n",
      "|52000|    145| 23|2018-06-11 03:54:...|    6369|iOS|MRNFeS0sVveDbr_PG...|MRNFeS0sVveDbr_PG...|\n",
      "|44900|    139| 23|2018-06-11 02:30:...|    1172|iOS|MRNFeS0sVveDbr_PG...|MRNFeS0sVveDbr_PG...|\n",
      "|25000|     77| 23|2018-06-11 03:57:...|    3049|iOS|MRNFeS0sVveDbr_PG...|MRNFeS0sVveDbr_PG...|\n",
      "| 9900|    126| 23|2018-06-11 02:49:...|     151|iOS|MRNFeS0sVveDbr_PG...|MRNFeS0sVveDbr_PG...|\n",
      "|20810|     28| 20|2018-06-11 00:33:...|    5519|iOS|lhaf4YM-6Ma9AN6XG...|lhaf4YM-6Ma9AN6XG...|\n",
      "|32800|     63| 19|2018-06-11 19:31:...|     849|iOS|LqImoN4NNmifYzWm4...|LqImoN4NNmifYzWm4...|\n",
      "|12900|    126| 27|2018-06-11 22:51:...|     976|And|L8acu0lQ4apG87BY9...|L8acu0lQ4apG87BY9...|\n",
      "|30400|    100| 26|2018-06-11 21:54:...|     981|iOS|XMfOr6hw3J-Y6e-Zp...|XMfOr6hw3J-Y6e-Zp...|\n",
      "|31000|     38| 37|2018-06-11 12:56:...|    5513|And|MnvhmV0tA89bN9TLX...|MnvhmV0tA89bN9TLX...|\n",
      "| 4900|     12| 19|2018-06-11 21:26:...|    4603|iOS|ggCICmp2XumOfZhqE...|ggCICmp2XumOfZhqE...|\n",
      "|19800|     32| 32|2018-06-11 23:07:...|    5134|And|pyLEa_iwUjpx9Rs62...|pyLEa_iwUjpx9Rs62...|\n",
      "|32000|     11| 22|2018-06-11 11:45:...|    4243|And|9DHLsuoE7BpK1Tjbr...|9DHLsuoE7BpK1Tjbr...|\n",
      "| 4500|     22| 16|2018-06-11 23:45:...|     747|And|G_FTWV3XOR8MmW01c...|G_FTWV3XOR8MmW01c...|\n",
      "|14800|     22| 17|2018-06-11 21:34:...|    6353|And|JkBOzfgL_APyrEZaX...|JkBOzfgL_APyrEZaX...|\n",
      "|23800|    126| 28|2018-06-11 21:25:...|     279|iOS|i8lAr0csgIHMSy2sp...|i8lAr0csgIHMSy2sp...|\n",
      "+-----+-------+---+--------------------+--------+---+--------------------+--------------------+\n",
      "only showing top 20 rows"
     ]
    }
   ],
   "source": [
    "result.toDF().show()"
   ]
  },
  {
   "cell_type": "markdown",
   "metadata": {},
   "source": [
    "\n",
    "### 4. 데이터 쓰기\n",
    "\n",
    "만들어진 데이터를 특정 저장장치(Amazon S3)에 쓰도록하겠습니다.\n",
    "실습에서는 Amazon S3에만 데이터를 쓰지만, RDBMS, Redhift 등에도 쓸 수 있습니다.\n",
    "\n",
    "\n",
    "Amazon S3경로에 조인된 데이터를 parquet으로 변환하여 upload하겠습니다."
   ]
  },
  {
   "cell_type": "code",
   "execution_count": 12,
   "metadata": {},
   "outputs": [
    {
     "data": {
      "application/vnd.jupyter.widget-view+json": {
       "model_id": "e0c0aea0cefc4275ba2fd3c7a132c848",
       "version_major": 2,
       "version_minor": 0
      },
      "text/plain": [
       "FloatProgress(value=0.0, bar_style='info', description='Progress:', layout=Layout(height='25px', width='50%'),…"
      ]
     },
     "metadata": {},
     "output_type": "display_data"
    },
    {
     "name": "stdout",
     "output_type": "stream",
     "text": [
      "{'ResponseMetadata': {'RequestId': '008307E51596F76F', 'HostId': 'KqxRHIt+VMxlh0FZRwaEHTC5IVdC9vcTpaeUSoSmPTLoalzY7X9mpGzUZb7R9E0Haqzj8QwvTX4=', 'HTTPStatusCode': 200, 'HTTPHeaders': {'x-amz-id-2': 'KqxRHIt+VMxlh0FZRwaEHTC5IVdC9vcTpaeUSoSmPTLoalzY7X9mpGzUZb7R9E0Haqzj8QwvTX4=', 'x-amz-request-id': '008307E51596F76F', 'date': 'Fri, 27 Sep 2019 05:10:50 GMT', 'etag': '\"d41d8cd98f00b204e9800998ecf8427e\"', 'content-length': '0', 'server': 'AmazonS3'}, 'RetryAttempts': 1}, 'ETag': '\"d41d8cd98f00b204e9800998ecf8427e\"'}"
     ]
    }
   ],
   "source": [
    "import boto3\n",
    "\n",
    "s3 = boto3.client('s3')\n",
    "s3.put_object(Bucket=\"awskrug-data-luke2\", Key=\"output/\")"
   ]
  },
  {
   "cell_type": "code",
   "execution_count": null,
   "metadata": {},
   "outputs": [
    {
     "data": {
      "application/vnd.jupyter.widget-view+json": {
       "model_id": "fbcc3493c4be4cd5b1ef19ed07aa02cc",
       "version_major": 2,
       "version_minor": 0
      },
      "text/plain": [
       "FloatProgress(value=0.0, bar_style='info', description='Progress:', layout=Layout(height='25px', width='50%'),…"
      ]
     },
     "metadata": {},
     "output_type": "display_data"
    }
   ],
   "source": [
    "output_AmazonS3 = \"s3://awskrug-data-luke2/output/\"\n",
    "\n",
    "print(\"Writing ...\")\n",
    "glueContext.write_dynamic_frame.from_options(frame = result, connection_type = \"s3\", connection_options = {\"path\": output_AmazonS3}, format = \"parquet\")"
   ]
  },
  {
   "cell_type": "markdown",
   "metadata": {},
   "source": [
    "### 결론\n",
    "\n",
    "ETL 작업을 하게 되면 한번에 코딩하기도 어렵고, 시간도 많이 걸릴 것 입니다.\n",
    "이럴 때 AWS Glue endpoint를 사용하여 jupyter notebook 환경을 이용하여 대화형으로 개발할 수 있습니다."
   ]
  }
 ],
 "metadata": {
  "kernelspec": {
   "display_name": "Sparkmagic (PySpark)",
   "language": "",
   "name": "pysparkkernel"
  },
  "language_info": {
   "codemirror_mode": {
    "name": "python",
    "version": 2
   },
   "mimetype": "text/x-python",
   "name": "pyspark",
   "pygments_lexer": "python2"
  }
 },
 "nbformat": 4,
 "nbformat_minor": 4
}
